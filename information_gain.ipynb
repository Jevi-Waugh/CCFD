{
 "cells": [
  {
   "cell_type": "code",
   "execution_count": 22,
   "metadata": {},
   "outputs": [
    {
     "data": {
      "text/latex": [
       "$$ \\displaystyle \\mathrm{information\\_gain}(E, \\mathrm{parent}, \\mathrm{weighted\\_average}, \\mathrm{children}) = E \\mathopen{}\\left( \\mathrm{parent} \\mathclose{}\\right) - \\mathopen{}\\left[ \\mathrm{weighted\\_average} \\mathclose{}\\right] E \\mathopen{}\\left( \\mathrm{children} \\mathclose{}\\right) $$"
      ],
      "text/plain": [
       "<latexify.ipython_wrappers.LatexifiedFunction at 0x2797f882240>"
      ]
     },
     "execution_count": 22,
     "metadata": {},
     "output_type": "execute_result"
    }
   ],
   "source": [
    "import latexify\n",
    "import math\n",
    "\n",
    "\n",
    "@latexify.function\n",
    "def information_gain(E,parent,weighted_average, children):\n",
    "    return (E(parent) - [weighted_average] * E(children))\n",
    "\n",
    "information_gain\n"
   ]
  }
 ],
 "metadata": {
  "kernelspec": {
   "display_name": "Python 3",
   "language": "python",
   "name": "python3"
  },
  "language_info": {
   "codemirror_mode": {
    "name": "ipython",
    "version": 3
   },
   "file_extension": ".py",
   "mimetype": "text/x-python",
   "name": "python",
   "nbconvert_exporter": "python",
   "pygments_lexer": "ipython3",
   "version": "3.12.2"
  }
 },
 "nbformat": 4,
 "nbformat_minor": 2
}
