{
 "cells": [
  {
   "cell_type": "code",
   "execution_count": null,
   "metadata": {},
   "outputs": [],
   "source": [
    "# Gini index by CART algorithm)\n",
    "\n",
    "# Given a set S\n",
    "# Given a r-way split of set S into S1, S2, . . . , Sr\n",
    "# N: number of samples in S\n",
    "# Nr: number of samples in Sr\n",
    "# For each subset Sr\n",
    "    # p1, p2, . . . , pk fraction of samples from k classes\n"
   ]
  }
 ],
 "metadata": {
  "language_info": {
   "name": "python"
  }
 },
 "nbformat": 4,
 "nbformat_minor": 2
}
