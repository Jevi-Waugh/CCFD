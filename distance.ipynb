{
 "cells": [
  {
   "cell_type": "code",
   "execution_count": null,
   "metadata": {},
   "outputs": [],
   "source": [
    "import latexify\n",
    "import math\n",
    "import numpy as np\n",
    "\n",
    "@latexify.function\n",
    "def euclidean_distance(x, y):\n",
    "    return np.sqrt()\n",
    "\n",
    "def manhatten_distance(self: Vector, other: Vector) -> int:\n",
    "    return abs(self.x - other.x) + abs(self.y - other.y)\n",
    "\n",
    "def minkowski_distance(self):\n",
    "    pass"
   ]
  }
 ],
 "metadata": {
  "language_info": {
   "name": "python"
  }
 },
 "nbformat": 4,
 "nbformat_minor": 2
}
